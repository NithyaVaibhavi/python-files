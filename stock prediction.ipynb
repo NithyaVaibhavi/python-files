{
 "cells": [
  {
   "cell_type": "code",
   "execution_count": null,
   "id": "4eb0eeb1",
   "metadata": {},
   "outputs": [],
   "source": [
    "import numpy as np"
   ]
  },
  {
   "cell_type": "code",
   "execution_count": null,
   "id": "dce0dd4b",
   "metadata": {},
   "outputs": [],
   "source": [
    "import pandas as pd"
   ]
  },
  {
   "cell_type": "code",
   "execution_count": null,
   "id": "0adcb316",
   "metadata": {},
   "outputs": [],
   "source": [
    "import matplotlib.pyplot as plt"
   ]
  },
  {
   "cell_type": "code",
   "execution_count": null,
   "id": "917c8743",
   "metadata": {},
   "outputs": [],
   "source": [
    "from sklearn.preprocessing import MinMaxScaler"
   ]
  },
  {
   "cell_type": "code",
   "execution_count": null,
   "id": "67e7df7a",
   "metadata": {},
   "outputs": [],
   "source": [
    "import torch\n",
    "import torch.nn as nn"
   ]
  },
  {
   "cell_type": "code",
   "execution_count": null,
   "id": "430465d7",
   "metadata": {},
   "outputs": [],
   "source": [
    "df=pd.read_csv('FB.csv')\n",
    "open_prices=df['Open']\n",
    "seqlen=15\n",
    "print(open_prices)\n",
    "mm=MinMaxScaler()\n",
    "scaleprice=mm.fit_transform(np.array(open_prices)[...,None]).squeeze()\n",
    "print(scaleprice)"
   ]
  },
  {
   "cell_type": "code",
   "execution_count": null,
   "id": "dfe15d3e",
   "metadata": {},
   "outputs": [],
   "source": [
    "x=[]\n",
    "y=[]\n",
    "for i in range(len(scaleprice)-seqlen):\n",
    "    x.append(scaleprice[i:i+seqlen])\n",
    "    y.append(scaleprice[i+seqlen])\n",
    "x=np.array(x)[...,None]\n",
    "y=np.array(y)[...,None]\n"
   ]
  },
  {
   "cell_type": "code",
   "execution_count": null,
   "id": "95446db0",
   "metadata": {},
   "outputs": [],
   "source": [
    "train_x=torch.from_numpy(x[:int(0.8*x.shape[0])]).float()\n",
    "train_y=torch.from_numpy(y[:int(0.8*x.shape[0])]).float()\n",
    "test_x=torch.from_numpy(x[int(0.8*x.shape[0]):]).float()\n",
    "test_y=torch.from_numpy(y[int(0.8*x.shape[0]):]).float()\n",
    "print(train_x.shape,test_x.shape)"
   ]
  },
  {
   "cell_type": "code",
   "execution_count": null,
   "id": "6ae3a90b",
   "metadata": {},
   "outputs": [],
   "source": [
    "class Model(nn.Module):\n",
    "    def __init__(self,input_size,hidden_size):\n",
    "        super().__init__()\n",
    "        self.lstm=nn.LSTM(input_size,hidden_size,batch_first=True)\n",
    "        self.fc=nn.Linear(hidden_size,1)\n",
    "    def forward(self,x):\n",
    "        output,(hidden,cell)=self.lstm(x)\n",
    "        return self.fc(hidden[-1,:])\n",
    "model=Model(1,64)  \n",
    "optimizer=torch.optim.Adam(model.parameters(),lr=0.001)\n",
    "loss_fn=nn.MSELoss()\n",
    "\n",
    "num_epochs=100\n",
    "for epoch in range(num_epochs):\n",
    "    output=model(train_x)\n",
    "    loss=loss_fn(output,train_y)\n",
    "    optimizer.zero_grad()\n",
    "    loss.backward()\n",
    "    optimizer.step()\n",
    "    if(epoch%10==0 and epoch!=0):\n",
    "        print(epoch,\"epoch loss\",loss.detach().numpy())\n",
    "model.eval()\n",
    "with torch.no_grad():\n",
    "    output=model(test_x)\n",
    "pred=mm.inverse_transform(output.numpy())\n",
    "real=mm.inverse_transform(test_y.numpy())\n",
    "\n",
    "plt.plot(pred.squeeze(),color='red',label=\"predicted\")\n",
    "plt.plot(real.squeeze(),color='green',label=\"real\")\n",
    "plt.show()"
   ]
  },
  {
   "cell_type": "code",
   "execution_count": null,
   "id": "1da51dd1",
   "metadata": {},
   "outputs": [],
   "source": []
  },
  {
   "cell_type": "code",
   "execution_count": null,
   "id": "1592b510",
   "metadata": {},
   "outputs": [],
   "source": []
  }
 ],
 "metadata": {
  "kernelspec": {
   "display_name": "Python 3 (ipykernel)",
   "language": "python",
   "name": "python3"
  },
  "language_info": {
   "codemirror_mode": {
    "name": "ipython",
    "version": 3
   },
   "file_extension": ".py",
   "mimetype": "text/x-python",
   "name": "python",
   "nbconvert_exporter": "python",
   "pygments_lexer": "ipython3",
   "version": "3.10.9"
  }
 },
 "nbformat": 4,
 "nbformat_minor": 5
}
